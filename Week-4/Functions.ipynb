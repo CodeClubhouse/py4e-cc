{
 "cells": [
  {
   "cell_type": "code",
   "execution_count": 14,
   "metadata": {},
   "outputs": [],
   "source": [
    "def compute_pay(hours, rate, ot_mult = 1.5, ot = 40):\n",
    "    \"\"\"Compute weekly salary, adjusted for overtime\"\"\"\n",
    "    pay = 0\n",
    "    if hours > ot:\n",
    "        #Overtime hourly wages\n",
    "        pay += (hours - ot) * (rate * ot_mult)\n",
    "        #Regular hourly wages\n",
    "        pay += ot * rate\n",
    "    else:\n",
    "        pay += hours * rate\n",
    "    return pay\n",
    "        "
   ]
  },
  {
   "cell_type": "code",
   "execution_count": 15,
   "metadata": {},
   "outputs": [
    {
     "data": {
      "text/plain": [
       "667.5"
      ]
     },
     "execution_count": 15,
     "metadata": {},
     "output_type": "execute_result"
    }
   ],
   "source": [
    "compute_pay(43, rate = 15, ot_mult = 1.5, ot = 40)"
   ]
  },
  {
   "cell_type": "code",
   "execution_count": 12,
   "metadata": {},
   "outputs": [
    {
     "data": {
      "text/plain": [
       "667.5"
      ]
     },
     "execution_count": 12,
     "metadata": {},
     "output_type": "execute_result"
    }
   ],
   "source": [
    "(40*15) + 3*(15*1.5)\n"
   ]
  }
 ],
 "metadata": {
  "kernelspec": {
   "display_name": "Python 3",
   "language": "python",
   "name": "python3"
  },
  "language_info": {
   "codemirror_mode": {
    "name": "ipython",
    "version": 3
   },
   "file_extension": ".py",
   "mimetype": "text/x-python",
   "name": "python",
   "nbconvert_exporter": "python",
   "pygments_lexer": "ipython3",
   "version": "3.7.6"
  }
 },
 "nbformat": 4,
 "nbformat_minor": 4
}
