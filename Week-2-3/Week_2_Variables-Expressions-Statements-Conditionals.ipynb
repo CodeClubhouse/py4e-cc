{
 "cells": [
  {
   "cell_type": "code",
   "execution_count": 1,
   "metadata": {},
   "outputs": [
    {
     "ename": "SyntaxError",
     "evalue": "invalid character in identifier (<ipython-input-1-76032f73e143>, line 1)",
     "output_type": "error",
     "traceback": [
      "\u001b[0;36m  File \u001b[0;32m\"<ipython-input-1-76032f73e143>\"\u001b[0;36m, line \u001b[0;32m1\u001b[0m\n\u001b[0;31m    ░░░░░░░░░░░░░░░░░░░░░░░░░░░######## Week 2\u001b[0m\n\u001b[0m                              ^\u001b[0m\n\u001b[0;31mSyntaxError\u001b[0m\u001b[0;31m:\u001b[0m invalid character in identifier\n"
     ]
    }
   ],
   "source": [
    "░░░░░░░░░░░░░░░░░░░░░░░░░░░######## Week 2\n",
    "░░░░░░░░░░░░░▄███▄▄▄░░░░░░░######## Code Clubhouse - Python for Everybody\n",
    "░░░░░░░░░▄▄▄██▀▀▀▀███▄░░░░░######## Maintainer: Ian Rambo\n",
    "░░░░░░░▄▀▀░░░░░░░░░░░▀█░░░░######## Variables, Expressions, Statements, Conditionals\n",
    "░░░░▄▄▀░░░░░░░░░░░░░░░▀█░░░\n",
    "░░░█░░░░░▀▄░░▄▀░░░░░░░░█░░░\n",
    "░░░▐██▄░░▀▄▀▀▄▀░░▄██▀░▐▌░░░\n",
    "░░░█▀█░▀░░░▀▀░░░▀░█▀░░▐▌░░░\n",
    "░░░█░░▀▐░░░░░░░░▌▀░░░░░█░░░\n",
    "░░░█░░░░░░░░░░░░░░░░░░░█░░░\n",
    "░░░░█░░▀▄░░░░▄▀░░░░░░░░█░░░\n",
    "░░░░█░░░░░░░░░░░▄▄░░░░█░░░░\n",
    "░░░░░█▀██▀▀▀▀██▀░░░░░░█░░░░\n",
    "░░░░░█░░▀████▀░░░░░░░█░░░░░\n",
    "░░░░░░█░░░░░░░░░░░░▄█░░░░░░\n",
    "░░░░░░░██░░░░░█▄▄▀▀░█░░░░░░\n",
    "░░░░░░░░▀▀█▀▀▀▀░░░░░░█░░░░░\n",
    "░░░░░░░░░█░░░░░░░░░░░░█░░░░#YEE"
   ]
  },
  {
   "cell_type": "code",
   "execution_count": 2,
   "metadata": {},
   "outputs": [
    {
     "name": "stdout",
     "output_type": "stream",
     "text": [
      "Hello World!\n"
     ]
    }
   ],
   "source": [
    "### Data Types ###\n",
    "#Constants are fixed values\n",
    "\n",
    "#This is a string - you can use single (') or double quotes (\"), just be consistent\n",
    "print('Hello World!')"
   ]
  },
  {
   "cell_type": "code",
   "execution_count": 3,
   "metadata": {},
   "outputs": [
    {
     "name": "stdout",
     "output_type": "stream",
     "text": [
      "42\n"
     ]
    }
   ],
   "source": [
    "#Integer\n",
    "print(42)"
   ]
  },
  {
   "cell_type": "code",
   "execution_count": 4,
   "metadata": {},
   "outputs": [
    {
     "name": "stdout",
     "output_type": "stream",
     "text": [
      "4.4444\n"
     ]
    }
   ],
   "source": [
    "#Float\n",
    "print(4.4444)"
   ]
  },
  {
   "cell_type": "code",
   "execution_count": 5,
   "metadata": {},
   "outputs": [],
   "source": [
    "# Variables allow you store and retrieve data in memory under a variable \"name\"\n",
    "# You can change the variable contents - think of dumping out a bucket, and putting new things in\n",
    "\n",
    "\n",
    "# From PEP-8: \n",
    "# Never use the characters ‘l’ (lowercase letter el), ‘O’ (uppercase letter oh), or ‘I’ (uppercase letter eye) \n",
    "# as single character variable names.\n",
    "\n",
    "# In some fonts, these characters are indistinguishable from the numerals one and zero. \n",
    "# When tempted to use ‘l’, use ‘L’ instead"
   ]
  },
  {
   "cell_type": "code",
   "execution_count": 15,
   "metadata": {},
   "outputs": [],
   "source": [
    "#Case matters!\n",
    "#Here we do an assignment statement.  \n",
    "foo = 2\n",
    "Foo = 15.02\n",
    "FOO = 'halibut'\n",
    "bar = 'delicious'"
   ]
  },
  {
   "cell_type": "code",
   "execution_count": 7,
   "metadata": {},
   "outputs": [
    {
     "name": "stdout",
     "output_type": "stream",
     "text": [
      "2\n",
      "15.02\n",
      "halibut\n"
     ]
    }
   ],
   "source": [
    "print(foo)\n",
    "print(Foo)\n",
    "print(FOO)"
   ]
  },
  {
   "cell_type": "code",
   "execution_count": 8,
   "metadata": {},
   "outputs": [
    {
     "data": {
      "text/plain": [
       "float"
      ]
     },
     "execution_count": 8,
     "metadata": {},
     "output_type": "execute_result"
    }
   ],
   "source": [
    "#Python is dynamically typed, i.e. you don't have to specify type.\n",
    "#In a statically-typed language like C (which Python builds on), you must.\n",
    "type(Foo)"
   ]
  },
  {
   "cell_type": "code",
   "execution_count": 9,
   "metadata": {},
   "outputs": [],
   "source": [
    "#Data types can be converted.\n",
    "foo = str(foo)\n",
    "\n",
    "#str(Foo)\n",
    "#float(foo)\n",
    "\n",
    "#Halibut is not a number.\n",
    "#int(FOO)"
   ]
  },
  {
   "cell_type": "code",
   "execution_count": 14,
   "metadata": {},
   "outputs": [
    {
     "ename": "ValueError",
     "evalue": "invalid literal for int() with base 10: 'halibut'",
     "output_type": "error",
     "traceback": [
      "\u001b[0;31m---------------------------------------------------------------------------\u001b[0m",
      "\u001b[0;31mValueError\u001b[0m                                Traceback (most recent call last)",
      "\u001b[0;32m<ipython-input-14-ed1da9682c0f>\u001b[0m in \u001b[0;36m<module>\u001b[0;34m\u001b[0m\n\u001b[0;32m----> 1\u001b[0;31m \u001b[0mint\u001b[0m\u001b[0;34m(\u001b[0m\u001b[0mFOO\u001b[0m\u001b[0;34m)\u001b[0m\u001b[0;34m\u001b[0m\u001b[0;34m\u001b[0m\u001b[0m\n\u001b[0m",
      "\u001b[0;31mValueError\u001b[0m: invalid literal for int() with base 10: 'halibut'"
     ]
    }
   ],
   "source": [
    "\n"
   ]
  },
  {
   "cell_type": "code",
   "execution_count": 10,
   "metadata": {},
   "outputs": [
    {
     "data": {
      "text/plain": [
       "15"
      ]
     },
     "execution_count": 10,
     "metadata": {},
     "output_type": "execute_result"
    }
   ],
   "source": [
    "int(Foo)"
   ]
  },
  {
   "cell_type": "code",
   "execution_count": null,
   "metadata": {},
   "outputs": [],
   "source": []
  },
  {
   "cell_type": "code",
   "execution_count": 18,
   "metadata": {},
   "outputs": [
    {
     "name": "stdout",
     "output_type": "stream",
     "text": [
      "17.02\n"
     ]
    },
    {
     "data": {
      "text/plain": [
       "float"
      ]
     },
     "execution_count": 18,
     "metadata": {},
     "output_type": "execute_result"
    }
   ],
   "source": [
    "#Varible assignment using an expression.  \n",
    "foosum = foo + Foo\n",
    "#How does the data type change?\n",
    "print(foosum)\n",
    "type(foosum)"
   ]
  },
  {
   "cell_type": "code",
   "execution_count": 19,
   "metadata": {},
   "outputs": [
    {
     "ename": "TypeError",
     "evalue": "unsupported operand type(s) for +: 'int' and 'str'",
     "output_type": "error",
     "traceback": [
      "\u001b[0;31m---------------------------------------------------------------------------\u001b[0m",
      "\u001b[0;31mTypeError\u001b[0m                                 Traceback (most recent call last)",
      "\u001b[0;32m<ipython-input-19-978f4e931d81>\u001b[0m in \u001b[0;36m<module>\u001b[0;34m\u001b[0m\n\u001b[1;32m      1\u001b[0m \u001b[0;31m#Why does this give an error?\u001b[0m\u001b[0;34m\u001b[0m\u001b[0;34m\u001b[0m\u001b[0;34m\u001b[0m\u001b[0m\n\u001b[0;32m----> 2\u001b[0;31m \u001b[0mfoo\u001b[0m \u001b[0;34m+\u001b[0m \u001b[0mFOO\u001b[0m\u001b[0;34m\u001b[0m\u001b[0;34m\u001b[0m\u001b[0m\n\u001b[0m",
      "\u001b[0;31mTypeError\u001b[0m: unsupported operand type(s) for +: 'int' and 'str'"
     ]
    }
   ],
   "source": [
    "#Why does this give an error?\n",
    "foo + FOO"
   ]
  },
  {
   "cell_type": "code",
   "execution_count": 24,
   "metadata": {},
   "outputs": [
    {
     "ename": "TypeError",
     "evalue": "can only concatenate str (not \"int\") to str",
     "output_type": "error",
     "traceback": [
      "\u001b[0;31m---------------------------------------------------------------------------\u001b[0m",
      "\u001b[0;31mTypeError\u001b[0m                                 Traceback (most recent call last)",
      "\u001b[0;32m<ipython-input-24-021090b82e1a>\u001b[0m in \u001b[0;36m<module>\u001b[0;34m\u001b[0m\n\u001b[1;32m      1\u001b[0m \u001b[0;31m#What about this?\u001b[0m\u001b[0;34m\u001b[0m\u001b[0;34m\u001b[0m\u001b[0;34m\u001b[0m\u001b[0m\n\u001b[0;32m----> 2\u001b[0;31m \u001b[0mFOO\u001b[0m \u001b[0;34m+\u001b[0m \u001b[0mfoo\u001b[0m\u001b[0;34m\u001b[0m\u001b[0;34m\u001b[0m\u001b[0m\n\u001b[0m",
      "\u001b[0;31mTypeError\u001b[0m: can only concatenate str (not \"int\") to str"
     ]
    }
   ],
   "source": [
    "#What about this?\n",
    "FOO + foo"
   ]
  },
  {
   "cell_type": "code",
   "execution_count": 25,
   "metadata": {},
   "outputs": [
    {
     "ename": "TypeError",
     "evalue": "'str' object does not support item assignment",
     "output_type": "error",
     "traceback": [
      "\u001b[0;31m---------------------------------------------------------------------------\u001b[0m",
      "\u001b[0;31mTypeError\u001b[0m                                 Traceback (most recent call last)",
      "\u001b[0;32m<ipython-input-25-701d34cc0769>\u001b[0m in \u001b[0;36m<module>\u001b[0;34m\u001b[0m\n\u001b[1;32m      1\u001b[0m \u001b[0;31m#Strings are immutable.\u001b[0m\u001b[0;34m\u001b[0m\u001b[0;34m\u001b[0m\u001b[0;34m\u001b[0m\u001b[0m\n\u001b[0;32m----> 2\u001b[0;31m \u001b[0mFOO\u001b[0m\u001b[0;34m[\u001b[0m\u001b[0;36m0\u001b[0m\u001b[0;34m]\u001b[0m \u001b[0;34m=\u001b[0m \u001b[0;34m'a'\u001b[0m\u001b[0;34m\u001b[0m\u001b[0;34m\u001b[0m\u001b[0m\n\u001b[0m",
      "\u001b[0;31mTypeError\u001b[0m: 'str' object does not support item assignment"
     ]
    }
   ],
   "source": [
    "#Strings are immutable.\n",
    "FOO[0] = 'a'"
   ]
  },
  {
   "cell_type": "code",
   "execution_count": 20,
   "metadata": {},
   "outputs": [
    {
     "data": {
      "text/plain": [
       "'super delicious halibut'"
      ]
     },
     "execution_count": 20,
     "metadata": {},
     "output_type": "execute_result"
    }
   ],
   "source": [
    "#We can join strings in several ways\n",
    "'super ' + bar + ' ' + FOO"
   ]
  },
  {
   "cell_type": "code",
   "execution_count": 21,
   "metadata": {},
   "outputs": [
    {
     "name": "stdout",
     "output_type": "stream",
     "text": [
      "9.0\n"
     ]
    }
   ],
   "source": [
    "### Operators ###\n",
    "# Order of operations\n",
    "# Remember PEMDAS:\n",
    "\n",
    "# Parentheses  ()\n",
    "# Exponents  **\n",
    "# Multiplication  *\n",
    "# Division  /\n",
    "# (Remainder, i.e. modulo)  %\n",
    "# Addition  +\n",
    "# Subtraction  -\n",
    "# Left to Right\n",
    "\n",
    "x = 2\n",
    "\n",
    "#We can reassign value to x\n",
    "x = 4.5 * x * (x - 1)**2\n",
    "\n",
    "print(x)"
   ]
  },
  {
   "cell_type": "code",
   "execution_count": 22,
   "metadata": {},
   "outputs": [
    {
     "name": "stdout",
     "output_type": "stream",
     "text": [
      "2592.0\n"
     ]
    }
   ],
   "source": [
    "x = 4.5 * x * (x - 1)**2\n",
    "print(x)"
   ]
  },
  {
   "cell_type": "code",
   "execution_count": 23,
   "metadata": {},
   "outputs": [
    {
     "name": "stdout",
     "output_type": "stream",
     "text": [
      "Caught: Spanish Mackerel: 5 of 15 (33.33333333333333%) ; 10 remain\n"
     ]
    }
   ],
   "source": [
    "# Challenge - post your answer to #coding-classes-for-the-community.\n",
    "# The main focus here is changing data types.\n",
    "# Suppose you want to create a fishing app that follows Texas state law.\n",
    "fish_species = 'Spanish Mackerel'\n",
    "fish_caught = 5\n",
    "fish_limit = 15\n",
    "\n",
    "#Calculate the remaining fish in your bag limit.\n",
    "fish_remain = fish_limit - fish_caught\n",
    "baglim_percent = float((fish_caught/fish_limit)*100)\n",
    "\n",
    "#CHANGE ME: Fix the message for current bag limit\n",
    "baglim_message = 'Caught: ' + str(fish_species) + ': ' + \\\n",
    "                str(fish_caught) + ' of ' + str(fish_limit) + \\\n",
    "                ' (' + str(baglim_percent) + '%)' + \\\n",
    "                ' ; ' + str(fish_remain) + ' remain'\n",
    "print(baglim_message)"
   ]
  },
  {
   "cell_type": "code",
   "execution_count": 32,
   "metadata": {},
   "outputs": [],
   "source": [
    "### Conditionals ###\n",
    "\n",
    "z = 10\n",
    "c = int()\n",
    "avogadro = 6.02214076 * 10**23"
   ]
  },
  {
   "cell_type": "code",
   "execution_count": 27,
   "metadata": {},
   "outputs": [
    {
     "name": "stdout",
     "output_type": "stream",
     "text": [
      "Greater than or equal to 10\n",
      "Avogadro's constant is greater than or equal to 10\n"
     ]
    }
   ],
   "source": [
    "#One-way decisions can be done with a single 'if' statement.\n",
    "if z >= 10:\n",
    "    print('Greater than or equal to 10')\n",
    "    if avogadro > 10:\n",
    "        #Notice I use double quotes for this string since there is a single quote\n",
    "        print(\"Avogadro's constant is greater than or equal to 10\")"
   ]
  },
  {
   "cell_type": "code",
   "execution_count": 28,
   "metadata": {},
   "outputs": [
    {
     "name": "stdout",
     "output_type": "stream",
     "text": [
      "Yes\n"
     ]
    }
   ],
   "source": [
    "#If a value exists, it is considered 'True'\n",
    "if z:\n",
    "    print('Yes')\n",
    "else:\n",
    "    print('Nope')"
   ]
  },
  {
   "cell_type": "code",
   "execution_count": 37,
   "metadata": {},
   "outputs": [],
   "source": [
    "baz = ''"
   ]
  },
  {
   "cell_type": "code",
   "execution_count": 38,
   "metadata": {},
   "outputs": [
    {
     "name": "stdout",
     "output_type": "stream",
     "text": [
      "Nope\n"
     ]
    }
   ],
   "source": [
    "#Zero is considered 'False'\n",
    "if c:\n",
    "    print('Yes')\n",
    "else:\n",
    "    print('Nope')"
   ]
  },
  {
   "cell_type": "code",
   "execution_count": 42,
   "metadata": {},
   "outputs": [
    {
     "name": "stdout",
     "output_type": "stream",
     "text": [
      "OK!\n",
      "Still OK!\n",
      "Hmmm\n"
     ]
    }
   ],
   "source": [
    "#You can combine comparison operators\n",
    "if z < 20 and not c:\n",
    "    print('OK!')\n",
    "    \n",
    "if baz:\n",
    "    print('yeah')\n",
    "\n",
    "if z < 20 and not c and FOO and bar:\n",
    "    print('Still OK!')\n",
    "\n",
    "if not z or not c:\n",
    "    print('Hmmm')\n",
    "\n",
    "if c or not z:\n",
    "    print('Bork')"
   ]
  },
  {
   "cell_type": "code",
   "execution_count": 99,
   "metadata": {},
   "outputs": [],
   "source": [
    "# You surround a dangerous section of code with try and except\n",
    "# If the code in the try works - the except is skipped\n",
    "# If the code in the try fails - it jumps to the except section"
   ]
  },
  {
   "cell_type": "code",
   "execution_count": 133,
   "metadata": {},
   "outputs": [
    {
     "name": "stdout",
     "output_type": "stream",
     "text": [
      "how many Spanish Mackerel have you caught today?100\n"
     ]
    },
    {
     "data": {
      "text/plain": [
       "int"
      ]
     },
     "execution_count": 133,
     "metadata": {},
     "output_type": "execute_result"
    }
   ],
   "source": [
    "#We will take user input to see how many mackerel have been caught\n",
    "#fish_caught = int()\n",
    "try:\n",
    "    baglim_query = 'how many %s have you caught today?' % fish_species\n",
    "    fish_caught = int(float(input(baglim_query)))\n",
    "except ValueError:\n",
    "    print('not valid')\n",
    "    \n",
    "type(fish_caught)"
   ]
  },
  {
   "cell_type": "code",
   "execution_count": 135,
   "metadata": {},
   "outputs": [
    {
     "name": "stdout",
     "output_type": "stream",
     "text": [
      "You have exceeded the daily bag limit for Spanish Mackerel\n",
      "You possess 100 Spanish Mackerel\n",
      "Watch out for THE MAN\n"
     ]
    }
   ],
   "source": [
    "# ALWAYS use 4 spaces for indentations\n",
    "if fish_caught > fish_limit:\n",
    "    print('You have exceeded the daily bag limit for', fish_species)\n",
    "    print('You possess', fish_caught, fish_species)\n",
    "    print('Watch out for THE MAN')\n",
    "elif fish_caught == fish_limit:\n",
    "    print('You have caught the daily bag limit for', fish_species)\n",
    "    print('You had a good day out there!')\n",
    "else:\n",
    "    rlim = fish_limit - fish_caught\n",
    "    print('You can catch up to', str(rlim), 'more', fish_species, 'today')"
   ]
  },
  {
   "cell_type": "code",
   "execution_count": 136,
   "metadata": {},
   "outputs": [
    {
     "name": "stdout",
     "output_type": "stream",
     "text": [
      "caught more than 10 fish\n"
     ]
    }
   ],
   "source": [
    "#if statements can be nested\n",
    "if fish_caught > z:\n",
    "    print('caught more than', z, 'fish')\n",
    "    if fish_caught >= avogadro:\n",
    "        print('Are there any fish left?')\n",
    "else:\n",
    "    print('have not caught more than', z, 'fish')"
   ]
  }
 ],
 "metadata": {
  "kernelspec": {
   "display_name": "Python 3",
   "language": "python",
   "name": "python3"
  },
  "language_info": {
   "codemirror_mode": {
    "name": "ipython",
    "version": 3
   },
   "file_extension": ".py",
   "mimetype": "text/x-python",
   "name": "python",
   "nbconvert_exporter": "python",
   "pygments_lexer": "ipython3",
   "version": "3.7.6"
  }
 },
 "nbformat": 4,
 "nbformat_minor": 4
}
