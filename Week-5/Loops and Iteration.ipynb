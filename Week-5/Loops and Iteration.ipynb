{
 "cells": [
  {
   "cell_type": "code",
   "execution_count": null,
   "metadata": {},
   "outputs": [],
   "source": [
    "import time"
   ]
  },
  {
   "cell_type": "code",
   "execution_count": null,
   "metadata": {},
   "outputs": [],
   "source": [
    "n = 5\n",
    "while n > 0:\n",
    "    print(n)\n",
    "    n -= 1\n",
    "print('here we goooooo')"
   ]
  },
  {
   "cell_type": "code",
   "execution_count": null,
   "metadata": {},
   "outputs": [],
   "source": [
    "while True:\n",
    "    line = input('> ')\n",
    "    if line == 'done' :\n",
    "        break\n",
    "    print(line)\n",
    "print('YOu are finished!')\n",
    "\n",
    "print('bork')"
   ]
  },
  {
   "cell_type": "code",
   "execution_count": 1,
   "metadata": {},
   "outputs": [
    {
     "name": "stdout",
     "output_type": "stream",
     "text": [
      "> 'done'\n",
      "'done'\n",
      "> done\n",
      "Finished!\n"
     ]
    }
   ],
   "source": [
    "while True:\n",
    "    line = input('> ')\n",
    "    if line.startswith('#') :\n",
    "        continue\n",
    "    if line == 'done' :\n",
    "        break\n",
    "    print(line)\n",
    "print('Finished!')\n",
    "\n"
   ]
  },
  {
   "cell_type": "code",
   "execution_count": null,
   "metadata": {},
   "outputs": [],
   "source": [
    "#Is a substring in a string?\n",
    "'o' in 'foo'"
   ]
  },
  {
   "cell_type": "code",
   "execution_count": null,
   "metadata": {},
   "outputs": [],
   "source": [
    "def run_fan(t):\n",
    "    \"\"\"Run the fan\"\"\"\n",
    "    print('whirrrr')\n",
    "    time.sleep(t)\n"
   ]
  },
  {
   "cell_type": "code",
   "execution_count": null,
   "metadata": {},
   "outputs": [],
   "source": [
    "def temp_f(temp_c):\n",
    "    \"\"\"Convert Celsius to Farenheit\"\"\"\n",
    "    f = temp_c * 9.0 / 5.0 + 32.0\n",
    "    return f"
   ]
  },
  {
   "cell_type": "code",
   "execution_count": null,
   "metadata": {},
   "outputs": [],
   "source": [
    "def read_sensor(tin, celcius = True):\n",
    "    \"\"\"Print the temperature sensor reading in C or F\"\"\"\n",
    "    if celcius:\n",
    "        print('the temperature is:', tin, 'Celsius')\n",
    "    else:\n",
    "        tin = temp_f(tin)\n",
    "        print('the temperature is:', tin, 'Farenheit')"
   ]
  },
  {
   "cell_type": "code",
   "execution_count": null,
   "metadata": {},
   "outputs": [],
   "source": [
    "#Temperature in Celsius\n",
    "temperature_c = 30\n",
    "temp_max_c = 25\n",
    "temperature_f = temp_f(temperature)\n",
    "temp_max_f = temp_f(temp_max_c)"
   ]
  },
  {
   "cell_type": "code",
   "execution_count": null,
   "metadata": {},
   "outputs": [],
   "source": []
  },
  {
   "cell_type": "code",
   "execution_count": null,
   "metadata": {},
   "outputs": [],
   "source": []
  },
  {
   "cell_type": "code",
   "execution_count": null,
   "metadata": {},
   "outputs": [],
   "source": [
    "def cool_down(t, tm):\n",
    "    \"\"\"Run the fan and cool down to the temperature max\"\"\"\n",
    "    while t > tm:\n",
    "        run_fan(2)\n",
    "        t -= 1\n",
    "        read_sensor(t)\n",
    "        if t <= tm:\n",
    "            break\n",
    "    return t\n",
    "    "
   ]
  },
  {
   "cell_type": "code",
   "execution_count": null,
   "metadata": {},
   "outputs": [],
   "source": [
    "cool_down(t = temperature_c, tm = temp_max_c)"
   ]
  },
  {
   "cell_type": "code",
   "execution_count": null,
   "metadata": {},
   "outputs": [],
   "source": [
    "pasta = 'buccatini'"
   ]
  },
  {
   "cell_type": "code",
   "execution_count": null,
   "metadata": {},
   "outputs": [],
   "source": [
    "# A string is an iterable, so we can loop\n",
    "# through each character in the string\n",
    "for p in pasta:\n",
    "    print(p)"
   ]
  },
  {
   "cell_type": "code",
   "execution_count": null,
   "metadata": {},
   "outputs": [],
   "source": [
    "my_list = [1, 2, 3, 3, 'Sally', 4, 'Georgie', 5, 6.00444, ['foo', 'bar']]\n",
    "#my_list = list(my_list)"
   ]
  },
  {
   "cell_type": "code",
   "execution_count": null,
   "metadata": {},
   "outputs": [],
   "source": [
    "i = 'jojojojojojo'\n",
    "#print(fish)\n",
    "for fish in my_list:\n",
    "    print(fish)\n",
    "    \n"
   ]
  },
  {
   "cell_type": "code",
   "execution_count": null,
   "metadata": {},
   "outputs": [],
   "source": [
    "','.join([str(i) for i in my_list])"
   ]
  },
  {
   "cell_type": "code",
   "execution_count": null,
   "metadata": {},
   "outputs": [],
   "source": [
    "# In this loop, we will go through the integers in the list\n",
    "# and reassign largest_so_far if the iteration variable \n",
    "# is greater than its current value\n",
    "\n",
    "largest_so_far = -1\n",
    "print('Before', largest_so_far)\n",
    "for the_num in [9, 41, 12, 3, 874, 15]:\n",
    "    if the_num > largest_so_far:\n",
    "        largest_so_far = the_num\n",
    "    print(largest_so_far, the_num)\n",
    "   \n",
    "print('After', largest_so_far)"
   ]
  },
  {
   "cell_type": "code",
   "execution_count": null,
   "metadata": {},
   "outputs": [],
   "source": [
    "# Here we will use a for loop to add values to a variable\n",
    "# This setup can also be used as a 'counter'\n",
    "num = 0\n",
    "print('Before', num)\n",
    "for i in [2, 4, 6, 9, 100]:\n",
    "    num += i\n",
    "    print(num, i)\n",
    "print('After', num)"
   ]
  },
  {
   "cell_type": "code",
   "execution_count": 2,
   "metadata": {},
   "outputs": [
    {
     "name": "stdout",
     "output_type": "stream",
     "text": [
      "Before 0 0\n",
      "1 9 9\n",
      "2 50 41\n",
      "3 62 12\n",
      "4 65 3\n",
      "5 139 74\n",
      "6 154 15\n",
      "After 6 154 25.666666666666668\n"
     ]
    }
   ],
   "source": [
    "#Finding the average in a loop\n",
    "#Original code breaks a python rule - sum is a built-in function!\n",
    "count = 0\n",
    "#sum = 0\n",
    "my_sum = 0\n",
    "values = [9, 41, 12, 3, 74, 15]\n",
    "#print('Before', count, sum)\n",
    "print('Before', count, my_sum)\n",
    "for value in values:\n",
    "    count = count + 1\n",
    "    #sum = sum + value\n",
    "    my_sum += value\n",
    "    #print(count, sum, value)\n",
    "    print(count, my_sum, value)\n",
    "#print('After', count, sum, sum / count)\n",
    "print('After', count, my_sum, my_sum / count)"
   ]
  },
  {
   "cell_type": "code",
   "execution_count": 3,
   "metadata": {},
   "outputs": [
    {
     "data": {
      "text/plain": [
       "25.666666666666668"
      ]
     },
     "execution_count": 3,
     "metadata": {},
     "output_type": "execute_result"
    }
   ],
   "source": [
    "#You can get the same result using built-in functions\n",
    "avg_val = sum(values)/len(values)\n",
    "avg_val"
   ]
  },
  {
   "cell_type": "code",
   "execution_count": 4,
   "metadata": {
    "scrolled": true
   },
   "outputs": [
    {
     "data": {
      "text/plain": [
       "[41, 12, 74, 15]"
      ]
     },
     "execution_count": 4,
     "metadata": {},
     "output_type": "execute_result"
    }
   ],
   "source": [
    "#This isn't covered in the Py4E curriculum, but since we've looked at basic lists\n",
    "#I will detail basic uses of list comprehensions. We will get into this more\n",
    "#come the List lesson\n",
    "\n",
    "#this allows you to perform a loop within a list, and use conditional statements as well\n",
    "#elegant == pythonic\n",
    "\n",
    "[v for v in values if v > 9]"
   ]
  },
  {
   "cell_type": "code",
   "execution_count": 5,
   "metadata": {},
   "outputs": [
    {
     "data": {
      "text/plain": [
       "['9', '41', '12', '3', '74', '15']"
      ]
     },
     "execution_count": 5,
     "metadata": {},
     "output_type": "execute_result"
    }
   ],
   "source": [
    "[str(v) for v in values]"
   ]
  },
  {
   "cell_type": "code",
   "execution_count": 6,
   "metadata": {},
   "outputs": [
    {
     "data": {
      "text/plain": [
       "['41', '12', '15']"
      ]
     },
     "execution_count": 6,
     "metadata": {},
     "output_type": "execute_result"
    }
   ],
   "source": [
    "[str(v) for v in values if v > 9 and v < 60]"
   ]
  },
  {
   "cell_type": "code",
   "execution_count": 7,
   "metadata": {},
   "outputs": [],
   "source": [
    "iries = ['crazy', '8', 'wahoo', '9', 'gringo', '6', 'creme brulee', '5']"
   ]
  },
  {
   "cell_type": "code",
   "execution_count": 8,
   "metadata": {},
   "outputs": [
    {
     "data": {
      "text/plain": [
       "['crazy', 8, 'wahoo', 9, 'gringo', 6, 'creme brulee', 5]"
      ]
     },
     "execution_count": 8,
     "metadata": {},
     "output_type": "execute_result"
    }
   ],
   "source": [
    "[int(i) if i.isnumeric() else str(i) for i in iries]"
   ]
  },
  {
   "cell_type": "code",
   "execution_count": null,
   "metadata": {},
   "outputs": [],
   "source": []
  },
  {
   "cell_type": "code",
   "execution_count": null,
   "metadata": {},
   "outputs": [],
   "source": []
  }
 ],
 "metadata": {
  "kernelspec": {
   "display_name": "Python 3",
   "language": "python",
   "name": "python3"
  },
  "language_info": {
   "codemirror_mode": {
    "name": "ipython",
    "version": 3
   },
   "file_extension": ".py",
   "mimetype": "text/x-python",
   "name": "python",
   "nbconvert_exporter": "python",
   "pygments_lexer": "ipython3",
   "version": "3.7.6"
  }
 },
 "nbformat": 4,
 "nbformat_minor": 4
}
