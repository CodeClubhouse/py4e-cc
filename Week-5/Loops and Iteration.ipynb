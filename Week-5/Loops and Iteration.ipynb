{
 "cells": [
  {
   "cell_type": "code",
   "execution_count": 98,
   "metadata": {},
   "outputs": [],
   "source": [
    "import time"
   ]
  },
  {
   "cell_type": "code",
   "execution_count": 99,
   "metadata": {},
   "outputs": [
    {
     "name": "stdout",
     "output_type": "stream",
     "text": [
      "5\n",
      "4\n",
      "3\n",
      "2\n",
      "1\n",
      "here we goooooo\n"
     ]
    }
   ],
   "source": [
    "n = 5\n",
    "while n > 0:\n",
    "    print(n)\n",
    "    n -= 1\n",
    "print('here we goooooo')"
   ]
  },
  {
   "cell_type": "code",
   "execution_count": 101,
   "metadata": {},
   "outputs": [
    {
     "ename": "KeyboardInterrupt",
     "evalue": "Interrupted by user",
     "output_type": "error",
     "traceback": [
      "\u001b[0;31m---------------------------------------------------------------------------\u001b[0m",
      "\u001b[0;31mKeyboardInterrupt\u001b[0m                         Traceback (most recent call last)",
      "\u001b[0;32m<ipython-input-101-f2f00998f375>\u001b[0m in \u001b[0;36m<module>\u001b[0;34m\u001b[0m\n\u001b[1;32m      1\u001b[0m \u001b[0;32mwhile\u001b[0m \u001b[0;32mTrue\u001b[0m\u001b[0;34m:\u001b[0m\u001b[0;34m\u001b[0m\u001b[0;34m\u001b[0m\u001b[0m\n\u001b[0;32m----> 2\u001b[0;31m     \u001b[0mline\u001b[0m \u001b[0;34m=\u001b[0m \u001b[0minput\u001b[0m\u001b[0;34m(\u001b[0m\u001b[0;34m'> '\u001b[0m\u001b[0;34m)\u001b[0m\u001b[0;34m\u001b[0m\u001b[0;34m\u001b[0m\u001b[0m\n\u001b[0m\u001b[1;32m      3\u001b[0m     \u001b[0;32mif\u001b[0m \u001b[0mline\u001b[0m \u001b[0;34m==\u001b[0m \u001b[0;34m'done'\u001b[0m \u001b[0;34m:\u001b[0m\u001b[0;34m\u001b[0m\u001b[0;34m\u001b[0m\u001b[0m\n\u001b[1;32m      4\u001b[0m         \u001b[0;32mbreak\u001b[0m\u001b[0;34m\u001b[0m\u001b[0;34m\u001b[0m\u001b[0m\n\u001b[1;32m      5\u001b[0m     \u001b[0mprint\u001b[0m\u001b[0;34m(\u001b[0m\u001b[0mline\u001b[0m\u001b[0;34m)\u001b[0m\u001b[0;34m\u001b[0m\u001b[0;34m\u001b[0m\u001b[0m\n",
      "\u001b[0;32m~/miniconda3/lib/python3.7/site-packages/ipykernel/kernelbase.py\u001b[0m in \u001b[0;36mraw_input\u001b[0;34m(self, prompt)\u001b[0m\n\u001b[1;32m    861\u001b[0m             \u001b[0mself\u001b[0m\u001b[0;34m.\u001b[0m\u001b[0m_parent_ident\u001b[0m\u001b[0;34m,\u001b[0m\u001b[0;34m\u001b[0m\u001b[0;34m\u001b[0m\u001b[0m\n\u001b[1;32m    862\u001b[0m             \u001b[0mself\u001b[0m\u001b[0;34m.\u001b[0m\u001b[0m_parent_header\u001b[0m\u001b[0;34m,\u001b[0m\u001b[0;34m\u001b[0m\u001b[0;34m\u001b[0m\u001b[0m\n\u001b[0;32m--> 863\u001b[0;31m             \u001b[0mpassword\u001b[0m\u001b[0;34m=\u001b[0m\u001b[0;32mFalse\u001b[0m\u001b[0;34m,\u001b[0m\u001b[0;34m\u001b[0m\u001b[0;34m\u001b[0m\u001b[0m\n\u001b[0m\u001b[1;32m    864\u001b[0m         )\n\u001b[1;32m    865\u001b[0m \u001b[0;34m\u001b[0m\u001b[0m\n",
      "\u001b[0;32m~/miniconda3/lib/python3.7/site-packages/ipykernel/kernelbase.py\u001b[0m in \u001b[0;36m_input_request\u001b[0;34m(self, prompt, ident, parent, password)\u001b[0m\n\u001b[1;32m    891\u001b[0m             \u001b[0;32mexcept\u001b[0m \u001b[0mKeyboardInterrupt\u001b[0m\u001b[0;34m:\u001b[0m\u001b[0;34m\u001b[0m\u001b[0;34m\u001b[0m\u001b[0m\n\u001b[1;32m    892\u001b[0m                 \u001b[0;31m# re-raise KeyboardInterrupt, to truncate traceback\u001b[0m\u001b[0;34m\u001b[0m\u001b[0;34m\u001b[0m\u001b[0;34m\u001b[0m\u001b[0m\n\u001b[0;32m--> 893\u001b[0;31m                 \u001b[0;32mraise\u001b[0m \u001b[0mKeyboardInterrupt\u001b[0m\u001b[0;34m(\u001b[0m\u001b[0;34m\"Interrupted by user\"\u001b[0m\u001b[0;34m)\u001b[0m \u001b[0;32mfrom\u001b[0m \u001b[0;32mNone\u001b[0m\u001b[0;34m\u001b[0m\u001b[0;34m\u001b[0m\u001b[0m\n\u001b[0m\u001b[1;32m    894\u001b[0m             \u001b[0;32melse\u001b[0m\u001b[0;34m:\u001b[0m\u001b[0;34m\u001b[0m\u001b[0;34m\u001b[0m\u001b[0m\n\u001b[1;32m    895\u001b[0m                 \u001b[0;32mbreak\u001b[0m\u001b[0;34m\u001b[0m\u001b[0;34m\u001b[0m\u001b[0m\n",
      "\u001b[0;31mKeyboardInterrupt\u001b[0m: Interrupted by user"
     ]
    }
   ],
   "source": [
    "while True:\n",
    "    line = input('> ')\n",
    "    if line == 'done' :\n",
    "        break\n",
    "    print(line)\n",
    "print('YOu are finished!')\n",
    "\n",
    "print('bork')"
   ]
  },
  {
   "cell_type": "code",
   "execution_count": null,
   "metadata": {},
   "outputs": [],
   "source": [
    "while True:\n",
    "    line = input('> ')\n",
    "    if line.startswith('#') :\n",
    "        continue\n",
    "    if line == 'done' :\n",
    "        break\n",
    "    print(line)\n",
    "print('Finished!')\n",
    "\n"
   ]
  },
  {
   "cell_type": "code",
   "execution_count": null,
   "metadata": {},
   "outputs": [],
   "source": [
    "#Is a substring in a string?\n",
    "'o' in 'foo'"
   ]
  },
  {
   "cell_type": "code",
   "execution_count": null,
   "metadata": {},
   "outputs": [],
   "source": [
    "def run_fan(t):\n",
    "    \"\"\"Run the fan\"\"\"\n",
    "    print('whirrrr')\n",
    "    time.sleep(t)\n"
   ]
  },
  {
   "cell_type": "code",
   "execution_count": null,
   "metadata": {},
   "outputs": [],
   "source": [
    "def temp_f(temp_c):\n",
    "    \"\"\"Convert Celsius to Farenheit\"\"\"\n",
    "    f = temp_c * 9.0 / 5.0 + 32.0\n",
    "    return f"
   ]
  },
  {
   "cell_type": "code",
   "execution_count": null,
   "metadata": {},
   "outputs": [],
   "source": [
    "def read_sensor(tin, celcius = True):\n",
    "    \"\"\"Print the temperature sensor reading in C or F\"\"\"\n",
    "    if celcius:\n",
    "        print('the temperature is:', tin, 'Celsius')\n",
    "    else:\n",
    "        tin = temp_f(tin)\n",
    "        print('the temperature is:', tin, 'Farenheit')"
   ]
  },
  {
   "cell_type": "code",
   "execution_count": null,
   "metadata": {},
   "outputs": [],
   "source": [
    "#Temperature in Celsius\n",
    "temperature_c = 30\n",
    "temp_max_c = 25\n",
    "temperature_f = temp_f(temperature)\n",
    "temp_max_f = temp_f(temp_max_c)"
   ]
  },
  {
   "cell_type": "code",
   "execution_count": null,
   "metadata": {},
   "outputs": [],
   "source": []
  },
  {
   "cell_type": "code",
   "execution_count": null,
   "metadata": {},
   "outputs": [],
   "source": []
  },
  {
   "cell_type": "code",
   "execution_count": 71,
   "metadata": {},
   "outputs": [],
   "source": [
    "def cool_down(t, tm):\n",
    "    \"\"\"Run the fan and cool down to the temperature max\"\"\"\n",
    "    while t > tm:\n",
    "        run_fan(2)\n",
    "        t -= 1\n",
    "        read_sensor(t)\n",
    "        if t <= tm:\n",
    "            break\n",
    "    return t\n",
    "    "
   ]
  },
  {
   "cell_type": "code",
   "execution_count": 72,
   "metadata": {},
   "outputs": [
    {
     "name": "stdout",
     "output_type": "stream",
     "text": [
      "whirrrr\n",
      "the temperature is: 29 Celcius\n",
      "whirrrr\n",
      "the temperature is: 28 Celcius\n",
      "whirrrr\n",
      "the temperature is: 27 Celcius\n",
      "whirrrr\n",
      "the temperature is: 26 Celcius\n",
      "whirrrr\n",
      "the temperature is: 25 Celcius\n"
     ]
    },
    {
     "data": {
      "text/plain": [
       "25"
      ]
     },
     "execution_count": 72,
     "metadata": {},
     "output_type": "execute_result"
    }
   ],
   "source": [
    "cool_down(t = temperature_c, tm = temp_max_c)"
   ]
  },
  {
   "cell_type": "code",
   "execution_count": 74,
   "metadata": {},
   "outputs": [],
   "source": [
    "pasta = 'buccatini'"
   ]
  },
  {
   "cell_type": "code",
   "execution_count": 75,
   "metadata": {},
   "outputs": [
    {
     "name": "stdout",
     "output_type": "stream",
     "text": [
      "b\n",
      "u\n",
      "c\n",
      "c\n",
      "a\n",
      "t\n",
      "i\n",
      "n\n",
      "i\n"
     ]
    }
   ],
   "source": [
    "# A string is an iterable, so we can loop\n",
    "# through each character in the string\n",
    "for p in pasta:\n",
    "    print(p)"
   ]
  },
  {
   "cell_type": "code",
   "execution_count": 89,
   "metadata": {},
   "outputs": [],
   "source": [
    "my_list = [1, 2, 3, 3, 'Sally', 4, 'Georgie', 5, 6.00444, ['foo', 'bar']]\n",
    "#my_list = list(my_list)"
   ]
  },
  {
   "cell_type": "code",
   "execution_count": 93,
   "metadata": {},
   "outputs": [
    {
     "name": "stdout",
     "output_type": "stream",
     "text": [
      "['foo', 'bar']\n",
      "jojojojojojo\n",
      "jojojojojojo\n",
      "jojojojojojo\n",
      "jojojojojojo\n",
      "jojojojojojo\n",
      "jojojojojojo\n",
      "jojojojojojo\n",
      "jojojojojojo\n",
      "jojojojojojo\n",
      "jojojojojojo\n"
     ]
    }
   ],
   "source": [
    "i = 'jojojojojojo'\n",
    "#print(fish)\n",
    "for fish in my_list:\n",
    "    print(fish)\n",
    "    \n"
   ]
  },
  {
   "cell_type": "code",
   "execution_count": 81,
   "metadata": {},
   "outputs": [
    {
     "data": {
      "text/plain": [
       "'1,2,3,4,5'"
      ]
     },
     "execution_count": 81,
     "metadata": {},
     "output_type": "execute_result"
    }
   ],
   "source": [
    "','.join([str(i) for i in my_list])"
   ]
  },
  {
   "cell_type": "code",
   "execution_count": 95,
   "metadata": {},
   "outputs": [
    {
     "name": "stdout",
     "output_type": "stream",
     "text": [
      "Before -1\n",
      "9 9\n",
      "41 41\n",
      "41 12\n",
      "41 3\n",
      "874 874\n",
      "874 15\n",
      "After 874\n"
     ]
    }
   ],
   "source": [
    "# In this loop, we will go through the integers in the list\n",
    "# and reassign largest_so_far if the iteration variable \n",
    "# is greater than its current value\n",
    "\n",
    "largest_so_far = -1\n",
    "print('Before', largest_so_far)\n",
    "for the_num in [9, 41, 12, 3, 874, 15]:\n",
    "    if the_num > largest_so_far:\n",
    "        largest_so_far = the_num\n",
    "    print(largest_so_far, the_num)\n",
    "   \n",
    "print('After', largest_so_far)"
   ]
  },
  {
   "cell_type": "code",
   "execution_count": 97,
   "metadata": {},
   "outputs": [
    {
     "name": "stdout",
     "output_type": "stream",
     "text": [
      "Before 0\n",
      "2 2\n",
      "6 4\n",
      "12 6\n",
      "21 9\n",
      "121 100\n",
      "After 121\n"
     ]
    }
   ],
   "source": [
    "# Here we will use a for loop to add values to a variable\n",
    "# This setup can also be used as a 'counter'\n",
    "num = 0\n",
    "print('Before', num)\n",
    "for i in [2, 4, 6, 9, 100]:\n",
    "    num += i\n",
    "    print(num, i)\n",
    "print('After', num)"
   ]
  },
  {
   "cell_type": "code",
   "execution_count": 1,
   "metadata": {},
   "outputs": [
    {
     "name": "stdout",
     "output_type": "stream",
     "text": [
      "Before 0 0\n",
      "1 9 9\n",
      "2 50 41\n",
      "3 62 12\n",
      "4 65 3\n",
      "5 139 74\n",
      "6 154 15\n",
      "After 6 154 25.666666666666668\n"
     ]
    }
   ],
   "source": [
    "#Finding the average in a loop\n",
    "#Original code breaks a python rule - sum is a built-in function!\n",
    "count = 0\n",
    "#sum = 0\n",
    "my_sum = 0\n",
    "values = [9, 41, 12, 3, 74, 15]\n",
    "#print('Before', count, sum)\n",
    "print('Before', count, my_sum)\n",
    "for value in values :\n",
    "    count = count + 1\n",
    "    #sum = sum + value\n",
    "    my_sum += value\n",
    "    #print(count, sum, value)\n",
    "    print(count, my_sum, value)\n",
    "#print('After', count, sum, sum / count)\n",
    "print('After', count, my_sum, my_sum / count)"
   ]
  },
  {
   "cell_type": "code",
   "execution_count": 3,
   "metadata": {},
   "outputs": [
    {
     "data": {
      "text/plain": [
       "25.666666666666668"
      ]
     },
     "execution_count": 3,
     "metadata": {},
     "output_type": "execute_result"
    }
   ],
   "source": [
    "#You can get the same result using built-in functions\n",
    "avg_val = sum(values)/len(values)\n",
    "avg_val"
   ]
  },
  {
   "cell_type": "code",
   "execution_count": 7,
   "metadata": {},
   "outputs": [
    {
     "data": {
      "text/plain": [
       "['41', '12', '15']"
      ]
     },
     "execution_count": 7,
     "metadata": {},
     "output_type": "execute_result"
    }
   ],
   "source": [
    "#This isn't covered in the Py4E curriculum, but since we've looked at basic lists\n",
    "#I will detail basic uses of list comprehensions. We will get into this more\n",
    "#come the List lesson\n",
    "\n",
    "#this allows you to perform a loop within a list, and use conditional statements as well\n",
    "#elegant == pythonic\n",
    "\n",
    "[v for v in values if v > 9]"
   ]
  },
  {
   "cell_type": "code",
   "execution_count": null,
   "metadata": {},
   "outputs": [],
   "source": [
    "[str(v) for v in values]"
   ]
  },
  {
   "cell_type": "code",
   "execution_count": 9,
   "metadata": {},
   "outputs": [
    {
     "ename": "SyntaxError",
     "evalue": "invalid syntax (<ipython-input-9-7abe08e42ecb>, line 1)",
     "output_type": "error",
     "traceback": [
      "\u001b[0;36m  File \u001b[0;32m\"<ipython-input-9-7abe08e42ecb>\"\u001b[0;36m, line \u001b[0;32m1\u001b[0m\n\u001b[0;31m    [str(v) for v in values if v > 9 and v < 60 else v]\u001b[0m\n\u001b[0m                                                   ^\u001b[0m\n\u001b[0;31mSyntaxError\u001b[0m\u001b[0;31m:\u001b[0m invalid syntax\n"
     ]
    }
   ],
   "source": [
    "[str(v) for v in values if v > 9 and v < 60]"
   ]
  },
  {
   "cell_type": "code",
   "execution_count": 10,
   "metadata": {},
   "outputs": [],
   "source": [
    "iries = ['crazy', '8', 'wahoo', '9', 'gringo', '6', 'creme brulee', '5']"
   ]
  },
  {
   "cell_type": "code",
   "execution_count": 13,
   "metadata": {},
   "outputs": [
    {
     "data": {
      "text/plain": [
       "['crazy', 8, 'wahoo', 9, 'gringo', 6, 'creme brulee', 5]"
      ]
     },
     "execution_count": 13,
     "metadata": {},
     "output_type": "execute_result"
    }
   ],
   "source": [
    "[int(i) if i.isnumeric() else str(i) for i in iries]"
   ]
  },
  {
   "cell_type": "code",
   "execution_count": 14,
   "metadata": {},
   "outputs": [
    {
     "name": "stdout",
     "output_type": "stream",
     "text": [
      "[[1, 3, 5, 7], [2, 4, 6, 8]]\n"
     ]
    }
   ],
   "source": []
  },
  {
   "cell_type": "code",
   "execution_count": null,
   "metadata": {},
   "outputs": [],
   "source": []
  }
 ],
 "metadata": {
  "kernelspec": {
   "display_name": "Python 3",
   "language": "python",
   "name": "python3"
  },
  "language_info": {
   "codemirror_mode": {
    "name": "ipython",
    "version": 3
   },
   "file_extension": ".py",
   "mimetype": "text/x-python",
   "name": "python",
   "nbconvert_exporter": "python",
   "pygments_lexer": "ipython3",
   "version": "3.7.6"
  }
 },
 "nbformat": 4,
 "nbformat_minor": 4
}
